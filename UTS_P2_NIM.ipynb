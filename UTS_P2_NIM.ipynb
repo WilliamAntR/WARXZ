{
  "nbformat": 4,
  "nbformat_minor": 0,
  "metadata": {
    "colab": {
      "provenance": []
    },
    "kernelspec": {
      "name": "python3",
      "display_name": "Python 3"
    },
    "language_info": {
      "name": "python"
    }
  },
  "cells": [
    {
      "cell_type": "markdown",
      "source": [
        "##Part 1: (Kumpulkan dalam bentuk .word)\n",
        "\n",
        "1. Carilah 3 artikel terkait text klasifikasi dan jelaskan metode dan hasil yang didapatkan dari artikel tersebut.\n",
        "2. Gambarkan tahapan yang dilakukan pada text klasifikasi\n",
        "3. Lakukan proses klasifikasi emosi berdasarkan dataset text yang sudah disediakan dan implementasikan code pada Part 2\n",
        "4. Setelah mengerjakan Part 2, Algoritma manakah yang paling optimal?\n",
        "5. Buatlah pembahasan dalam bentuk essay berdasarkan hasil visualisasi, analisis dan evaluasi dari algoritma yang paling optimal berdasarkan evaluasi model yang sudah di implementasikan (Minimal 500 kata)\n",
        "\n",
        "Rename file word: UTS_P1_NIM"
      ],
      "metadata": {
        "id": "AofMul3Bu_va"
      }
    },
    {
      "cell_type": "markdown",
      "source": [
        "# PART 2: (Kumpulkan file UTS_TC737B_NIM.ipynb)"
      ],
      "metadata": {
        "id": "Pw9MSdi6zhb3"
      }
    },
    {
      "cell_type": "markdown",
      "source": [
        "## Data Loading"
      ],
      "metadata": {
        "id": "kWHsuR3qviQJ"
      }
    },
    {
      "cell_type": "markdown",
      "source": [
        "## Dataset:\n",
        "\n",
        "Dataset untuk Nim akhir Ganjil:\n",
        "https://docs.google.com/spreadsheets/d/1NTwsQ5Cgur7Tu_-LifgmsvUM40-4F3QUrNLFhDMw14g/edit?usp=sharing\n",
        "\n",
        "Dataset untuk Nim akhir Genap:\n",
        "https://docs.google.com/spreadsheets/d/1T1TVHF4OTJT8ghMzLNVMrHQHOqQJOJkzR5vrEw3aqPg/edit?usp=sharing"
      ],
      "metadata": {
        "id": "pZB1yZGmyfdl"
      }
    },
    {
      "cell_type": "markdown",
      "source": [
        "## Data Pre-processing\n",
        "Jelaskan step by step dan apa saya yang dilakukan pada tahapan pre-prosesings"
      ],
      "metadata": {
        "id": "1oc4oD5OvmFk"
      }
    },
    {
      "cell_type": "code",
      "source": [
        "##type your code here"
      ],
      "metadata": {
        "id": "uQ5k3tV5v4hx"
      },
      "execution_count": null,
      "outputs": []
    },
    {
      "cell_type": "markdown",
      "source": [
        "## Data Visualisasi\n",
        "Jelaskan pre-analysis awal yang didapatkan dari hasil visualisasi menggunakan statistik dasar, count class/chart/pie/word cloud"
      ],
      "metadata": {
        "id": "t2nU_IRmvrj5"
      }
    },
    {
      "cell_type": "code",
      "source": [
        "##type your code here"
      ],
      "metadata": {
        "id": "gumh4wh1v5FR"
      },
      "execution_count": null,
      "outputs": []
    },
    {
      "cell_type": "markdown",
      "source": [
        "## Pemodelan & Evaluasi Awal: Text Klasifikasi dengan menggunakan algoritma SVM, KNN, Naive Bayes\n",
        "\n",
        "Lakukan evaluasi menggunakan classification report (Precision, Recall, Accuracy, Macro average, and Weighted Average), Confusion matrix display\n",
        "\n"
      ],
      "metadata": {
        "id": "XnXweYpjvsAV"
      }
    },
    {
      "cell_type": "code",
      "source": [
        "##type your code here"
      ],
      "metadata": {
        "id": "dK2M13PWv5pQ"
      },
      "execution_count": null,
      "outputs": []
    },
    {
      "cell_type": "markdown",
      "source": [
        "## Lakukan tuning paramater menggunakan ParameterGrid untuk mendapatkan parameter terbaik pada tiap algoritma"
      ],
      "metadata": {
        "id": "MuklkC2rxJTr"
      }
    },
    {
      "cell_type": "code",
      "source": [
        "##type your code here"
      ],
      "metadata": {
        "id": "t2dSR9GKxaLt"
      },
      "execution_count": null,
      "outputs": []
    },
    {
      "cell_type": "markdown",
      "source": [
        "## Final, Hasil & Evaluasi Model SVM"
      ],
      "metadata": {
        "id": "8QLQK4cVv6Ve"
      }
    },
    {
      "cell_type": "code",
      "source": [
        "##type your code here"
      ],
      "metadata": {
        "id": "wpbhC12GyHj2"
      },
      "execution_count": null,
      "outputs": []
    },
    {
      "cell_type": "markdown",
      "source": [
        "## Final, Hasil & Evaluasi Model KNN"
      ],
      "metadata": {
        "id": "aSVUrZn5yDeq"
      }
    },
    {
      "cell_type": "code",
      "source": [
        "##type your code here"
      ],
      "metadata": {
        "id": "xiPKQ9V0yJBm"
      },
      "execution_count": null,
      "outputs": []
    },
    {
      "cell_type": "markdown",
      "source": [
        "## Final, Hasil & Evaluasi Model Naive Bayes"
      ],
      "metadata": {
        "id": "ojJdPuqhyFDC"
      }
    },
    {
      "cell_type": "code",
      "source": [
        "##type your code here"
      ],
      "metadata": {
        "id": "PwMQ36OEv-L7"
      },
      "execution_count": null,
      "outputs": []
    },
    {
      "cell_type": "markdown",
      "source": [],
      "metadata": {
        "id": "ZjLvmE67yQT8"
      }
    },
    {
      "cell_type": "markdown",
      "source": [
        "**UTS TC737B - Pemroresan Bahasa Alami - NIM**"
      ],
      "metadata": {
        "id": "t8i2dX8kwBCk"
      }
    }
  ]
}