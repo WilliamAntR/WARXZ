{
 "cells": [
  {
   "cell_type": "code",
   "execution_count": 47,
   "id": "dTGKshYqHLwG",
   "metadata": {
    "colab": {
     "base_uri": "https://localhost:8080/"
    },
    "executionInfo": {
     "elapsed": 10063,
     "status": "ok",
     "timestamp": 1746709349926,
     "user": {
      "displayName": "Dwi Hosanna",
      "userId": "10125860838889849300"
     },
     "user_tz": -420
    },
    "id": "dTGKshYqHLwG",
    "outputId": "d32a7d4d-9981-4f95-d855-bbca7d12c219",
    "scrolled": true
   },
   "outputs": [
    {
     "name": "stdout",
     "output_type": "stream",
     "text": [
      "Requirement already satisfied: pyldavis in c:\\users\\acer\\appdata\\local\\programs\\python\\python311\\lib\\site-packages (3.4.1)\n",
      "Requirement already satisfied: numpy>=1.24.2 in c:\\users\\acer\\appdata\\local\\programs\\python\\python311\\lib\\site-packages (from pyldavis) (1.26.4)\n",
      "Requirement already satisfied: scipy in c:\\users\\acer\\appdata\\local\\programs\\python\\python311\\lib\\site-packages (from pyldavis) (1.10.1)\n",
      "Requirement already satisfied: pandas>=2.0.0 in c:\\users\\acer\\appdata\\local\\programs\\python\\python311\\lib\\site-packages (from pyldavis) (2.2.3)\n",
      "Requirement already satisfied: joblib>=1.2.0 in c:\\users\\acer\\appdata\\local\\programs\\python\\python311\\lib\\site-packages (from pyldavis) (1.4.2)\n",
      "Requirement already satisfied: jinja2 in c:\\users\\acer\\appdata\\local\\programs\\python\\python311\\lib\\site-packages (from pyldavis) (3.1.6)\n",
      "Requirement already satisfied: numexpr in c:\\users\\acer\\appdata\\local\\programs\\python\\python311\\lib\\site-packages (from pyldavis) (2.10.2)\n",
      "Requirement already satisfied: funcy in c:\\users\\acer\\appdata\\local\\programs\\python\\python311\\lib\\site-packages (from pyldavis) (2.0)\n",
      "Requirement already satisfied: scikit-learn>=1.0.0 in c:\\users\\acer\\appdata\\local\\programs\\python\\python311\\lib\\site-packages (from pyldavis) (1.5.2)\n",
      "Requirement already satisfied: gensim in c:\\users\\acer\\appdata\\local\\programs\\python\\python311\\lib\\site-packages (from pyldavis) (4.3.3)\n",
      "Requirement already satisfied: setuptools in c:\\users\\acer\\appdata\\local\\programs\\python\\python311\\lib\\site-packages (from pyldavis) (65.5.0)\n",
      "Requirement already satisfied: python-dateutil>=2.8.2 in c:\\users\\acer\\appdata\\roaming\\python\\python311\\site-packages (from pandas>=2.0.0->pyldavis) (2.9.0.post0)\n",
      "Requirement already satisfied: pytz>=2020.1 in c:\\users\\acer\\appdata\\local\\programs\\python\\python311\\lib\\site-packages (from pandas>=2.0.0->pyldavis) (2024.2)\n",
      "Requirement already satisfied: tzdata>=2022.7 in c:\\users\\acer\\appdata\\local\\programs\\python\\python311\\lib\\site-packages (from pandas>=2.0.0->pyldavis) (2024.2)\n",
      "Requirement already satisfied: six>=1.5 in c:\\users\\acer\\appdata\\local\\programs\\python\\python311\\lib\\site-packages (from python-dateutil>=2.8.2->pandas>=2.0.0->pyldavis) (1.16.0)\n",
      "Requirement already satisfied: threadpoolctl>=3.1.0 in c:\\users\\acer\\appdata\\local\\programs\\python\\python311\\lib\\site-packages (from scikit-learn>=1.0.0->pyldavis) (3.5.0)\n",
      "Requirement already satisfied: smart-open>=1.8.1 in c:\\users\\acer\\appdata\\local\\programs\\python\\python311\\lib\\site-packages (from gensim->pyldavis) (7.1.0)\n",
      "Requirement already satisfied: wrapt in c:\\users\\acer\\appdata\\local\\programs\\python\\python311\\lib\\site-packages (from smart-open>=1.8.1->gensim->pyldavis) (1.14.1)\n",
      "Requirement already satisfied: MarkupSafe>=2.0 in c:\\users\\acer\\appdata\\local\\programs\\python\\python311\\lib\\site-packages (from jinja2->pyldavis) (2.1.2)\n"
     ]
    }
   ],
   "source": [
    "!pip install pyldavis"
   ]
  },
  {
   "cell_type": "code",
   "execution_count": 48,
   "id": "UbAjCgbN-200",
   "metadata": {
    "colab": {
     "base_uri": "https://localhost:8080/"
    },
    "executionInfo": {
     "elapsed": 16647,
     "status": "ok",
     "timestamp": 1746709366572,
     "user": {
      "displayName": "Dwi Hosanna",
      "userId": "10125860838889849300"
     },
     "user_tz": -420
    },
    "id": "UbAjCgbN-200",
    "outputId": "a80ed529-726c-45d5-8fb0-8b8608c0299d",
    "scrolled": true
   },
   "outputs": [
    {
     "name": "stdout",
     "output_type": "stream",
     "text": [
      "Requirement already satisfied: numpy in c:\\users\\acer\\appdata\\local\\programs\\python\\python311\\lib\\site-packages (1.26.4)\n",
      "Collecting numpy\n",
      "  Using cached numpy-2.2.5-cp311-cp311-win_amd64.whl.metadata (60 kB)\n",
      "Using cached numpy-2.2.5-cp311-cp311-win_amd64.whl (12.9 MB)\n",
      "Installing collected packages: numpy\n",
      "  Attempting uninstall: numpy\n",
      "    Found existing installation: numpy 1.26.4\n",
      "    Uninstalling numpy-1.26.4:\n",
      "      Successfully uninstalled numpy-1.26.4\n",
      "Successfully installed numpy-2.2.5\n"
     ]
    },
    {
     "name": "stderr",
     "output_type": "stream",
     "text": [
      "ERROR: pip's dependency resolver does not currently take into account all the packages that are installed. This behaviour is the source of the following dependency conflicts.\n",
      "gensim 4.3.3 requires numpy<2.0,>=1.18.5, but you have numpy 2.2.5 which is incompatible.\n",
      "scipy 1.10.1 requires numpy<1.27.0,>=1.19.5, but you have numpy 2.2.5 which is incompatible.\n"
     ]
    }
   ],
   "source": [
    "!pip install --upgrade numpy\n"
   ]
  },
  {
   "cell_type": "code",
   "execution_count": 49,
   "id": "7alU4XjA_OLu",
   "metadata": {
    "colab": {
     "base_uri": "https://localhost:8080/"
    },
    "executionInfo": {
     "elapsed": 17961,
     "status": "ok",
     "timestamp": 1746709384542,
     "user": {
      "displayName": "Dwi Hosanna",
      "userId": "10125860838889849300"
     },
     "user_tz": -420
    },
    "id": "7alU4XjA_OLu",
    "outputId": "e16c49b9-2f4d-4e15-fde1-5b2a6485461f",
    "scrolled": true
   },
   "outputs": [
    {
     "name": "stdout",
     "output_type": "stream",
     "text": [
      "Requirement already satisfied: gensim in c:\\users\\acer\\appdata\\local\\programs\\python\\python311\\lib\\site-packages (4.3.3)\n",
      "Collecting numpy<2.0,>=1.18.5 (from gensim)\n",
      "  Using cached numpy-1.26.4-cp311-cp311-win_amd64.whl.metadata (61 kB)\n",
      "Requirement already satisfied: scipy<1.14.0,>=1.7.0 in c:\\users\\acer\\appdata\\local\\programs\\python\\python311\\lib\\site-packages (from gensim) (1.10.1)\n",
      "Requirement already satisfied: smart-open>=1.8.1 in c:\\users\\acer\\appdata\\local\\programs\\python\\python311\\lib\\site-packages (from gensim) (7.1.0)\n",
      "Requirement already satisfied: wrapt in c:\\users\\acer\\appdata\\local\\programs\\python\\python311\\lib\\site-packages (from smart-open>=1.8.1->gensim) (1.14.1)\n",
      "Using cached numpy-1.26.4-cp311-cp311-win_amd64.whl (15.8 MB)\n",
      "Installing collected packages: numpy\n",
      "  Attempting uninstall: numpy\n",
      "    Found existing installation: numpy 2.2.5\n",
      "    Uninstalling numpy-2.2.5:\n",
      "      Successfully uninstalled numpy-2.2.5\n",
      "Successfully installed numpy-1.26.4\n"
     ]
    },
    {
     "name": "stderr",
     "output_type": "stream",
     "text": [
      "ERROR: pip's dependency resolver does not currently take into account all the packages that are installed. This behaviour is the source of the following dependency conflicts.\n",
      "thinc 8.3.6 requires numpy<3.0.0,>=2.0.0, but you have numpy 1.26.4 which is incompatible.\n"
     ]
    }
   ],
   "source": [
    "!pip install --upgrade gensim"
   ]
  },
  {
   "cell_type": "code",
   "execution_count": 73,
   "id": "64557d05",
   "metadata": {
    "colab": {
     "base_uri": "https://localhost:8080/"
    },
    "executionInfo": {
     "elapsed": 28797,
     "status": "ok",
     "timestamp": 1746709413341,
     "user": {
      "displayName": "Dwi Hosanna",
      "userId": "10125860838889849300"
     },
     "user_tz": -420
    },
    "id": "64557d05",
    "outputId": "cd700dcf-5db1-49ab-f5dc-b54406c96884"
   },
   "outputs": [
    {
     "name": "stderr",
     "output_type": "stream",
     "text": [
      "[nltk_data] Downloading package stopwords to\n",
      "[nltk_data]     C:\\Users\\ACER\\AppData\\Roaming\\nltk_data...\n",
      "[nltk_data]   Package stopwords is already up-to-date!\n"
     ]
    },
    {
     "name": "stdout",
     "output_type": "stream",
     "text": [
      "\u001b[38;5;2m✔ Download and installation successful\u001b[0m\n",
      "You can now load the package via spacy.load('en_core_web_sm')\n",
      "\u001b[38;5;3m⚠ Restart to reload dependencies\u001b[0m\n",
      "If you are in a Jupyter or Colab notebook, you may need to restart Python in\n",
      "order to load all the package's dependencies. You can do this by selecting the\n",
      "'Restart kernel' or 'Restart runtime' option.\n"
     ]
    }
   ],
   "source": [
    "import nltk\n",
    "nltk.download('stopwords')\n",
    "\n",
    "import re\n",
    "import numpy as np\n",
    "import pandas as pd\n",
    "from pprint import pprint\n",
    "\n",
    "# Gensim\n",
    "import gensim\n",
    "import gensim.corpora as corpora\n",
    "from gensim.utils import simple_preprocess\n",
    "from gensim.models import CoherenceModel\n",
    "from gensim.models.phrases import Phrases, Phraser\n",
    "\n",
    "# spacy for lemmatization\n",
    "import spacy\n",
    "from spacy.cli.download import download\n",
    "download(model=\"en_core_web_sm\")\n",
    "\n",
    "# Plotting tools\n",
    "import pyLDAvis\n",
    "import pyLDAvis.gensim  # don't skip this\n",
    "import pyLDAvis.gensim_models as gensimvis\n",
    "import matplotlib.pyplot as plt\n",
    "%matplotlib inline\n",
    "\n",
    "# Enable logging for gensim - optional\n",
    "import logging\n",
    "logging.basicConfig(format='%(asctime)s : %(levelname)s : %(message)s', level=logging.ERROR)\n",
    "\n",
    "import warnings\n",
    "warnings.filterwarnings(\"ignore\",category=DeprecationWarning)"
   ]
  },
  {
   "cell_type": "code",
   "execution_count": 51,
   "id": "561c9b4b",
   "metadata": {
    "executionInfo": {
     "elapsed": 11,
     "status": "ok",
     "timestamp": 1746709413358,
     "user": {
      "displayName": "Dwi Hosanna",
      "userId": "10125860838889849300"
     },
     "user_tz": -420
    },
    "id": "561c9b4b"
   },
   "outputs": [],
   "source": [
    "# NLTK Stop words\n",
    "from nltk.corpus import stopwords\n",
    "stop_words = stopwords.words('english')\n",
    "stop_words.extend(['from', 'subject', 're', 'edu', 'use', 'jaki_application', 'raya', 'semester', 'jajar', 'ojol',\n",
    "                   'agam', 'waeg', 'gbk', 'spo', 'sajete', 'opponentcovid', 'twilight', 'didi', 'taufik', 'pile', 'tessleri'])"
   ]
  },
  {
   "cell_type": "code",
   "execution_count": 52,
   "id": "94bc52f3",
   "metadata": {
    "executionInfo": {
     "elapsed": 638,
     "status": "ok",
     "timestamp": 1746709427944,
     "user": {
      "displayName": "Dwi Hosanna",
      "userId": "10125860838889849300"
     },
     "user_tz": -420
    },
    "id": "94bc52f3"
   },
   "outputs": [
    {
     "data": {
      "text/html": [
       "<div>\n",
       "<style scoped>\n",
       "    .dataframe tbody tr th:only-of-type {\n",
       "        vertical-align: middle;\n",
       "    }\n",
       "\n",
       "    .dataframe tbody tr th {\n",
       "        vertical-align: top;\n",
       "    }\n",
       "\n",
       "    .dataframe thead th {\n",
       "        text-align: right;\n",
       "    }\n",
       "</style>\n",
       "<table border=\"1\" class=\"dataframe\">\n",
       "  <thead>\n",
       "    <tr style=\"text-align: right;\">\n",
       "      <th></th>\n",
       "      <th>airline_sentiment</th>\n",
       "      <th>clean_text</th>\n",
       "      <th>airline</th>\n",
       "    </tr>\n",
       "  </thead>\n",
       "  <tbody>\n",
       "    <tr>\n",
       "      <th>0</th>\n",
       "      <td>positive</td>\n",
       "      <td>plus youve added commercials experience tacky</td>\n",
       "      <td>Virgin America</td>\n",
       "    </tr>\n",
       "    <tr>\n",
       "      <th>1</th>\n",
       "      <td>negative</td>\n",
       "      <td>really aggressive blast obnoxious entertainmen...</td>\n",
       "      <td>Virgin America</td>\n",
       "    </tr>\n",
       "    <tr>\n",
       "      <th>2</th>\n",
       "      <td>negative</td>\n",
       "      <td>really big bad thing</td>\n",
       "      <td>Virgin America</td>\n",
       "    </tr>\n",
       "    <tr>\n",
       "      <th>3</th>\n",
       "      <td>negative</td>\n",
       "      <td>seriously would pay flight seats didnt playing...</td>\n",
       "      <td>Virgin America</td>\n",
       "    </tr>\n",
       "    <tr>\n",
       "      <th>4</th>\n",
       "      <td>positive</td>\n",
       "      <td>yes nearly every time fly vx ear worm wont go ...</td>\n",
       "      <td>Virgin America</td>\n",
       "    </tr>\n",
       "    <tr>\n",
       "      <th>...</th>\n",
       "      <td>...</td>\n",
       "      <td>...</td>\n",
       "      <td>...</td>\n",
       "    </tr>\n",
       "    <tr>\n",
       "      <th>11536</th>\n",
       "      <td>negative</td>\n",
       "      <td>flight cancelled flightled leaving tomorrow mo...</td>\n",
       "      <td>American</td>\n",
       "    </tr>\n",
       "    <tr>\n",
       "      <th>11537</th>\n",
       "      <td>negative</td>\n",
       "      <td>right cue delays</td>\n",
       "      <td>American</td>\n",
       "    </tr>\n",
       "    <tr>\n",
       "      <th>11538</th>\n",
       "      <td>positive</td>\n",
       "      <td>thank got different flight chicago</td>\n",
       "      <td>American</td>\n",
       "    </tr>\n",
       "    <tr>\n",
       "      <th>11539</th>\n",
       "      <td>negative</td>\n",
       "      <td>leaving minutes late flight warnings communica...</td>\n",
       "      <td>American</td>\n",
       "    </tr>\n",
       "    <tr>\n",
       "      <th>11540</th>\n",
       "      <td>negative</td>\n",
       "      <td>money change flight dont answer phones suggest...</td>\n",
       "      <td>American</td>\n",
       "    </tr>\n",
       "  </tbody>\n",
       "</table>\n",
       "<p>11541 rows × 3 columns</p>\n",
       "</div>"
      ],
      "text/plain": [
       "      airline_sentiment                                         clean_text  \\\n",
       "0              positive      plus youve added commercials experience tacky   \n",
       "1              negative  really aggressive blast obnoxious entertainmen...   \n",
       "2              negative                               really big bad thing   \n",
       "3              negative  seriously would pay flight seats didnt playing...   \n",
       "4              positive  yes nearly every time fly vx ear worm wont go ...   \n",
       "...                 ...                                                ...   \n",
       "11536          negative  flight cancelled flightled leaving tomorrow mo...   \n",
       "11537          negative                                   right cue delays   \n",
       "11538          positive                 thank got different flight chicago   \n",
       "11539          negative  leaving minutes late flight warnings communica...   \n",
       "11540          negative  money change flight dont answer phones suggest...   \n",
       "\n",
       "              airline  \n",
       "0      Virgin America  \n",
       "1      Virgin America  \n",
       "2      Virgin America  \n",
       "3      Virgin America  \n",
       "4      Virgin America  \n",
       "...               ...  \n",
       "11536        American  \n",
       "11537        American  \n",
       "11538        American  \n",
       "11539        American  \n",
       "11540        American  \n",
       "\n",
       "[11541 rows x 3 columns]"
      ]
     },
     "execution_count": 52,
     "metadata": {},
     "output_type": "execute_result"
    }
   ],
   "source": [
    "# Import Dataset\n",
    "df = pd.DataFrame(pd.read_csv(\"Tweets_airlines_clean_text.csv\", sep = \",\", header = 0, index_col = False))\n",
    "df.to_json(\"Tweets_airlines_clean_text.json\", orient = \"records\", date_format = \"epoch\", double_precision = 10, force_ascii = True, date_unit = \"ms\", default_handler = None)\n",
    "df = pd.read_json('Tweets_airlines_clean_text.json')\n",
    "df"
   ]
  },
  {
   "cell_type": "code",
   "execution_count": 53,
   "id": "03c0bbd7",
   "metadata": {
    "colab": {
     "base_uri": "https://localhost:8080/"
    },
    "executionInfo": {
     "elapsed": 262,
     "status": "ok",
     "timestamp": 1746709433675,
     "user": {
      "displayName": "Dwi Hosanna",
      "userId": "10125860838889849300"
     },
     "user_tz": -420
    },
    "id": "03c0bbd7",
    "outputId": "110aadae-c0e8-4067-9e97-fc778521dff4"
   },
   "outputs": [
    {
     "name": "stdout",
     "output_type": "stream",
     "text": [
      "['plus youve added commercials experience tacky']\n"
     ]
    }
   ],
   "source": [
    "# Convert to list\n",
    "data = df.clean_text.values.tolist()\n",
    "\n",
    "data = [re.sub('\\S*@\\S*\\s?', '', sent or '') for sent in data]\n",
    "\n",
    "# Remove new line characters\n",
    "data = [re.sub('\\s+', ' ', sent) for sent in data]\n",
    "\n",
    "# Remove distracting single quotes\n",
    "data = [re.sub(\"\\'\", \"\", sent) for sent in data]\n",
    "\n",
    "print(data[:1])"
   ]
  },
  {
   "cell_type": "code",
   "execution_count": 54,
   "id": "02a183f3",
   "metadata": {
    "colab": {
     "base_uri": "https://localhost:8080/"
    },
    "executionInfo": {
     "elapsed": 527,
     "status": "ok",
     "timestamp": 1746709437296,
     "user": {
      "displayName": "Dwi Hosanna",
      "userId": "10125860838889849300"
     },
     "user_tz": -420
    },
    "id": "02a183f3",
    "outputId": "82260355-d8b9-496c-836c-d375b11a69e3"
   },
   "outputs": [
    {
     "name": "stdout",
     "output_type": "stream",
     "text": [
      "[['plus', 'youve', 'added', 'commercials', 'experience', 'tacky']]\n"
     ]
    }
   ],
   "source": [
    "def sent_to_words(sentences):\n",
    "    for sentence in sentences:\n",
    "        yield(gensim.utils.simple_preprocess(str(sentence), deacc=True))  # deacc=True removes punctuations\n",
    "\n",
    "data_words = list(sent_to_words(data))\n",
    "\n",
    "print(data_words[:1])"
   ]
  },
  {
   "cell_type": "code",
   "execution_count": 55,
   "id": "6acf3bdb",
   "metadata": {
    "colab": {
     "base_uri": "https://localhost:8080/"
    },
    "executionInfo": {
     "elapsed": 231,
     "status": "ok",
     "timestamp": 1746709439731,
     "user": {
      "displayName": "Dwi Hosanna",
      "userId": "10125860838889849300"
     },
     "user_tz": -420
    },
    "id": "6acf3bdb",
    "outputId": "01bc98b2-b13a-4bc5-f16a-4b64dde84c68"
   },
   "outputs": [
    {
     "name": "stdout",
     "output_type": "stream",
     "text": [
      "['plus', 'youve', 'added', 'commercials', 'experience', 'tacky']\n"
     ]
    }
   ],
   "source": [
    "# Build the bigram and trigram models\n",
    "bigram = gensim.models.Phrases(data_words, min_count=5, threshold=100) # higher threshold fewer phrases.\n",
    "trigram = gensim.models.Phrases(bigram[data_words], threshold=100)\n",
    "\n",
    "# Faster way to get a sentence clubbed as a trigram/bigram\n",
    "bigram_mod = gensim.models.phrases.Phraser(bigram)\n",
    "trigram_mod = gensim.models.phrases.Phraser(trigram)\n",
    "\n",
    "# See trigram example\n",
    "print(trigram_mod[bigram_mod[data_words[0]]])"
   ]
  },
  {
   "cell_type": "code",
   "execution_count": 56,
   "id": "aad63178",
   "metadata": {
    "executionInfo": {
     "elapsed": 4,
     "status": "ok",
     "timestamp": 1746709441476,
     "user": {
      "displayName": "Dwi Hosanna",
      "userId": "10125860838889849300"
     },
     "user_tz": -420
    },
    "id": "aad63178"
   },
   "outputs": [],
   "source": [
    "# Define functions for stopwords, bigrams, trigrams and lemmatization\n",
    "def remove_stopwords(texts):\n",
    "    return [[word for word in simple_preprocess(str(doc)) if word not in stop_words] for doc in texts]\n",
    "\n",
    "def make_bigrams(texts):\n",
    "    return [bigram_mod[doc] for doc in texts]\n",
    "\n",
    "def make_trigrams(texts):\n",
    "    return [trigram_mod[bigram_mod[doc]] for doc in texts]\n",
    "\n",
    "def lemmatization(texts, allowed_postags=['NOUN', 'ADJ', 'VERB', 'ADV']):\n",
    "    \"\"\"https://spacy.io/api/annotation\"\"\"\n",
    "    texts_out = []\n",
    "    for sent in texts:\n",
    "        doc = nlp(\" \".join(sent))\n",
    "        texts_out.append([token.lemma_ for token in doc if token.pos_ in allowed_postags])\n",
    "    return texts_out"
   ]
  },
  {
   "cell_type": "code",
   "execution_count": 57,
   "id": "7abeb18a",
   "metadata": {
    "executionInfo": {
     "elapsed": 170,
     "status": "ok",
     "timestamp": 1746709444597,
     "user": {
      "displayName": "Dwi Hosanna",
      "userId": "10125860838889849300"
     },
     "user_tz": -420
    },
    "id": "7abeb18a"
   },
   "outputs": [],
   "source": [
    "# Remove Stop Words\n",
    "data_words_nostops = remove_stopwords(data_words)\n",
    "\n",
    "# Form Bigrams\n",
    "data_words_bigrams = make_bigrams(data_words_nostops)"
   ]
  },
  {
   "cell_type": "code",
   "execution_count": 58,
   "id": "f48ccd61",
   "metadata": {
    "colab": {
     "base_uri": "https://localhost:8080/"
    },
    "executionInfo": {
     "elapsed": 15072,
     "status": "ok",
     "timestamp": 1746709461607,
     "user": {
      "displayName": "Dwi Hosanna",
      "userId": "10125860838889849300"
     },
     "user_tz": -420
    },
    "id": "f48ccd61",
    "outputId": "4ede144b-76c5-4e63-ab0b-709e693bdb41"
   },
   "outputs": [
    {
     "name": "stdout",
     "output_type": "stream",
     "text": [
      "[['ve', 'add', 'commercial', 'experience', 'tacky']]\n"
     ]
    }
   ],
   "source": [
    "# Initialize spacy 'en' model, keeping only tagger component (for efficiency)\n",
    "# python3 -m spacy download en\n",
    "nlp = spacy.load('en_core_web_sm', disable=['parser', 'ner'])\n",
    "\n",
    "# Do lemmatization keeping only noun, adj, vb, adv\n",
    "data_lemmatized = lemmatization(data_words_bigrams, allowed_postags=['NOUN', 'ADJ', 'VERB', 'ADV'])\n",
    "\n",
    "print(data_lemmatized[:1])"
   ]
  },
  {
   "cell_type": "code",
   "execution_count": 59,
   "id": "cb6b8be8",
   "metadata": {
    "colab": {
     "base_uri": "https://localhost:8080/"
    },
    "executionInfo": {
     "elapsed": 56,
     "status": "ok",
     "timestamp": 1746709463742,
     "user": {
      "displayName": "Dwi Hosanna",
      "userId": "10125860838889849300"
     },
     "user_tz": -420
    },
    "id": "cb6b8be8",
    "outputId": "f8a9bdf9-e1b5-403a-cdc5-5dc89b7ece87"
   },
   "outputs": [
    {
     "name": "stdout",
     "output_type": "stream",
     "text": [
      "[[(0, 1), (1, 1), (2, 1), (3, 1), (4, 1)]]\n"
     ]
    }
   ],
   "source": [
    "# Create Dictionary\n",
    "id2word = corpora.Dictionary(data_lemmatized)\n",
    "\n",
    "# Create Corpus\n",
    "texts = data_lemmatized\n",
    "\n",
    "# Term Document Frequency\n",
    "corpus = [id2word.doc2bow(text) for text in texts]\n",
    "\n",
    "# View\n",
    "print(corpus[:1])"
   ]
  },
  {
   "cell_type": "code",
   "execution_count": 60,
   "id": "6a75742f",
   "metadata": {
    "colab": {
     "base_uri": "https://localhost:8080/",
     "height": 35
    },
    "executionInfo": {
     "elapsed": 5,
     "status": "ok",
     "timestamp": 1746709466779,
     "user": {
      "displayName": "Dwi Hosanna",
      "userId": "10125860838889849300"
     },
     "user_tz": -420
    },
    "id": "6a75742f",
    "outputId": "47acf7db-1738-40aa-cc9e-87654982586f"
   },
   "outputs": [
    {
     "data": {
      "text/plain": [
       "'add'"
      ]
     },
     "execution_count": 60,
     "metadata": {},
     "output_type": "execute_result"
    }
   ],
   "source": [
    "id2word[0]"
   ]
  },
  {
   "cell_type": "code",
   "execution_count": 61,
   "id": "1dbba497",
   "metadata": {
    "colab": {
     "base_uri": "https://localhost:8080/"
    },
    "executionInfo": {
     "elapsed": 42,
     "status": "ok",
     "timestamp": 1746709468006,
     "user": {
      "displayName": "Dwi Hosanna",
      "userId": "10125860838889849300"
     },
     "user_tz": -420
    },
    "id": "1dbba497",
    "outputId": "4f0f9aa7-731b-4441-cb72-4ba875ab8259"
   },
   "outputs": [
    {
     "data": {
      "text/plain": [
       "[[('add', 1), ('commercial', 1), ('experience', 1), ('tacky', 1), ('ve', 1)]]"
      ]
     },
     "execution_count": 61,
     "metadata": {},
     "output_type": "execute_result"
    }
   ],
   "source": [
    "# Human readable format of corpus (term-frequency)\n",
    "[[(id2word[id], freq) for id, freq in cp] for cp in corpus[:1]]"
   ]
  },
  {
   "cell_type": "code",
   "execution_count": 62,
   "id": "a4554cc5",
   "metadata": {
    "executionInfo": {
     "elapsed": 10726,
     "status": "ok",
     "timestamp": 1746709805983,
     "user": {
      "displayName": "Dwi Hosanna",
      "userId": "10125860838889849300"
     },
     "user_tz": -420
    },
    "id": "a4554cc5"
   },
   "outputs": [],
   "source": [
    "# Build LDA model\n",
    "lda_model = gensim.models.ldamodel.LdaModel(corpus=corpus,\n",
    "                                           id2word=id2word,\n",
    "                                           num_topics=5,\n",
    "                                           random_state=100,\n",
    "                                           update_every=1,\n",
    "                                           chunksize=100,\n",
    "                                           passes=10,\n",
    "                                           alpha='auto',\n",
    "                                           per_word_topics=True)"
   ]
  },
  {
   "cell_type": "code",
   "execution_count": 63,
   "id": "d43703ae",
   "metadata": {
    "colab": {
     "base_uri": "https://localhost:8080/"
    },
    "executionInfo": {
     "elapsed": 16,
     "status": "ok",
     "timestamp": 1746709807862,
     "user": {
      "displayName": "Dwi Hosanna",
      "userId": "10125860838889849300"
     },
     "user_tz": -420
    },
    "id": "d43703ae",
    "outputId": "1d726b6f-957f-4581-d454-129a7a11f7dc",
    "scrolled": true
   },
   "outputs": [
    {
     "name": "stdout",
     "output_type": "stream",
     "text": [
      "[(0,\n",
      "  '0.140*\"flight\" + 0.076*\"get\" + 0.054*\"call\" + 0.052*\"cancel\" + 0.036*\"help\" '\n",
      "  '+ 0.025*\"wait\" + 0.025*\"flightle\" + 0.021*\"phone\" + 0.021*\"try\" + '\n",
      "  '0.020*\"need\"'),\n",
      " (1,\n",
      "  '0.081*\"hour\" + 0.041*\"delay\" + 0.040*\"plane\" + 0.037*\"make\" + 0.027*\"take\" '\n",
      "  '+ 0.023*\"guy\" + 0.021*\"sit\" + 0.020*\"gate\" + 0.018*\"way\" + 0.018*\"crew\"'),\n",
      " (2,\n",
      "  '0.037*\"time\" + 0.032*\"go\" + 0.032*\"m\" + 0.031*\"ve\" + 0.031*\"still\" + '\n",
      "  '0.031*\"bag\" + 0.027*\"tell\" + 0.021*\"work\" + 0.019*\"seat\" + 0.019*\"aa\"'),\n",
      " (3,\n",
      "  '0.053*\"thank\" + 0.045*\"customer\" + 0.042*\"service\" + 0.039*\"hold\" + '\n",
      "  '0.027*\"day\" + 0.023*\"s\" + 0.022*\"bad\" + 0.020*\"say\" + 0.017*\"airline\" + '\n",
      "  '0.017*\"fly\"'),\n",
      " (4,\n",
      "  '0.042*\"weather\" + 0.033*\"ticket\" + 0.033*\"luggage\" + 0.032*\"miss\" + '\n",
      "  '0.031*\"reservation\" + 0.030*\"number\" + 0.018*\"morning\" + 0.018*\"experience\" '\n",
      "  '+ 0.017*\"find\" + 0.015*\"think\"')]\n"
     ]
    }
   ],
   "source": [
    "# Print the Keyword in the 10 topics\n",
    "pprint(lda_model.print_topics())\n",
    "doc_lda = lda_model[corpus]"
   ]
  },
  {
   "cell_type": "code",
   "execution_count": 64,
   "id": "9c36d811",
   "metadata": {
    "colab": {
     "base_uri": "https://localhost:8080/"
    },
    "executionInfo": {
     "elapsed": 2534,
     "status": "ok",
     "timestamp": 1746709813068,
     "user": {
      "displayName": "Dwi Hosanna",
      "userId": "10125860838889849300"
     },
     "user_tz": -420
    },
    "id": "9c36d811",
    "outputId": "cc9a766f-24d3-4ac4-ee3b-96210aa7d1ba"
   },
   "outputs": [
    {
     "name": "stdout",
     "output_type": "stream",
     "text": [
      "\n",
      "Perplexity:  -7.421881470882158\n",
      "\n",
      "Coherence Score:  0.2843700364164844\n"
     ]
    }
   ],
   "source": [
    "# Compute Perplexity\n",
    "print('\\nPerplexity: ', lda_model.log_perplexity(corpus))  # a measure of how good the model is. lower the better.\n",
    "\n",
    "# Compute Coherence Score\n",
    "coherence_model_lda = CoherenceModel(model=lda_model, texts=data_lemmatized, dictionary=id2word, coherence='c_v')\n",
    "coherence_lda = coherence_model_lda.get_coherence()\n",
    "print('\\nCoherence Score: ', coherence_lda)"
   ]
  },
  {
   "cell_type": "code",
   "execution_count": 65,
   "id": "29fab035",
   "metadata": {
    "colab": {
     "base_uri": "https://localhost:8080/",
     "height": 881
    },
    "executionInfo": {
     "elapsed": 7797,
     "status": "ok",
     "timestamp": 1746709825293,
     "user": {
      "displayName": "Dwi Hosanna",
      "userId": "10125860838889849300"
     },
     "user_tz": -420
    },
    "id": "29fab035",
    "outputId": "f47062ef-d180-4db2-e267-e6c03a1c8d4f"
   },
   "outputs": [
    {
     "data": {
      "text/html": [
       "\n",
       "<link rel=\"stylesheet\" type=\"text/css\" href=\"https://cdn.jsdelivr.net/gh/bmabey/pyLDAvis@3.4.0/pyLDAvis/js/ldavis.v1.0.0.css\">\n",
       "\n",
       "\n",
       "<div id=\"ldavis_el1516822473798340642407165427\" style=\"background-color:white;\"></div>\n",
       "<script type=\"text/javascript\">\n",
       "\n",
       "var ldavis_el1516822473798340642407165427_data = {\"mdsDat\": {\"x\": [0.38979014506135956, -0.12637453638774335, -0.09202348569093811, -0.09558276932963433, -0.07580935365304402], \"y\": [-0.02221389837406708, -0.30739429274643587, 0.2680824203754133, 0.04318651313615221, 0.018339257608937697], \"topics\": [1, 2, 3, 4, 5], \"cluster\": [1, 1, 1, 1, 1], \"Freq\": [29.0458265224542, 23.92800118722597, 19.90921315394858, 16.81055610359961, 10.306403032771644]}, \"tinfo\": {\"Term\": [\"flight\", \"get\", \"hour\", \"call\", \"cancel\", \"thank\", \"customer\", \"service\", \"hold\", \"help\", \"delay\", \"plane\", \"time\", \"make\", \"go\", \"m\", \"ve\", \"still\", \"weather\", \"bag\", \"day\", \"wait\", \"flightle\", \"tell\", \"take\", \"ticket\", \"s\", \"luggage\", \"bad\", \"phone\", \"flight\", \"get\", \"call\", \"cancel\", \"help\", \"wait\", \"flightle\", \"phone\", \"need\", \"try\", \"agent\", \"change\", \"back\", \"know\", \"today\", \"want\", \"hang\", \"line\", \"rebooke\", \"give\", \"answer\", \"people\", \"passenger\", \"never\", \"lose\", \"online\", \"send\", \"talk\", \"min\", \"rebook\", \"tomorrow\", \"thank\", \"customer\", \"service\", \"hold\", \"day\", \"s\", \"bad\", \"say\", \"fly\", \"airline\", \"good\", \"minute\", \"home\", \"well\", \"re\", \"see\", \"pay\", \"staff\", \"speak\", \"next\", \"also\", \"sure\", \"busy\", \"option\", \"tonight\", \"night\", \"happen\", \"trip\", \"refund\", \"seriously\", \"time\", \"go\", \"m\", \"still\", \"ve\", \"bag\", \"tell\", \"work\", \"seat\", \"aa\", \"even\", \"leave\", \"let\", \"ever\", \"airport\", \"book\", \"check\", \"dfw\", \"response\", \"keep\", \"email\", \"system\", \"issue\", \"put\", \"great\", \"appreciate\", \"info\", \"yet\", \"much\", \"website\", \"hour\", \"delay\", \"plane\", \"make\", \"take\", \"guy\", \"sit\", \"gate\", \"way\", \"crew\", \"hrs\", \"really\", \"late\", \"due\", \"new\", \"long\", \"rude\", \"travel\", \"stick\", \"fix\", \"love\", \"care\", \"land\", \"first\", \"voucher\", \"nice\", \"connection\", \"poor\", \"employee\", \"handle\", \"stay\", \"weather\", \"ticket\", \"luggage\", \"miss\", \"reservation\", \"number\", \"experience\", \"morning\", \"find\", \"think\", \"problem\", \"team\", \"right\", \"extra\", \"automate\", \"finally\", \"tweet\", \"rep\", \"board\", \"air\", \"pick\", \"big\", \"do\", \"ground\", \"use\", \"mean\", \"hard\", \"lax\", \"mile\", \"booking_problem\"], \"Freq\": [3567.0, 1926.0, 1189.0, 1371.0, 1324.0, 1116.0, 939.0, 891.0, 815.0, 910.0, 598.0, 590.0, 638.0, 545.0, 562.0, 553.0, 541.0, 539.0, 377.0, 533.0, 560.0, 649.0, 641.0, 464.0, 392.0, 300.0, 479.0, 295.0, 464.0, 539.0, 3566.5442917577775, 1925.3252418722336, 1371.0357970733417, 1324.2117237443458, 909.9158824850855, 648.4230845773337, 640.5423697860573, 538.3669113646084, 511.8125196480546, 535.2105658397057, 499.63222428629894, 329.61855177930124, 319.01310940677905, 258.58161763499004, 249.87442158845508, 248.15843081212975, 249.73373434201423, 244.7088781740902, 236.97240752913098, 223.38149310176382, 218.71128356417339, 216.29991886203015, 199.77648276264335, 195.67473696328423, 187.7809090677972, 178.71701524533333, 162.93459995351037, 157.96689131026565, 147.27728083033713, 145.8856318973993, 478.54858170616296, 1115.8538599794347, 938.3090091297748, 890.3881396308581, 814.865988867162, 559.8787425255302, 479.0699216570251, 464.1839032261364, 417.8449793893277, 355.1279893866791, 355.46132668111755, 312.1999710611573, 279.8314038913187, 265.59703799237866, 250.9161517068778, 233.47423479941125, 224.03862494039578, 211.44047164003535, 195.95458672780492, 164.99834685816583, 159.22675147223043, 157.1173733822134, 135.34760968754028, 133.52482275122145, 130.11094799071074, 127.00100128314895, 127.04255123774756, 124.56536716740152, 123.6733910264029, 110.23505740291796, 111.48593177657422, 637.809302079697, 561.362108789484, 552.5249376310207, 539.0125033501508, 540.9625180135807, 532.6440981512152, 464.1439614694123, 371.5085615311349, 337.4057837105128, 329.97497533705246, 295.51139913095676, 273.0623864060323, 263.02889830162724, 261.44005585747885, 257.98973234777765, 248.69146156783947, 243.32621501171164, 269.4457556127846, 242.86952012771135, 238.1024564250202, 235.99967376334425, 214.72305262066143, 213.90868005080057, 201.02561936585423, 189.56330594068973, 138.0999461434054, 138.91329473370573, 137.03497489315743, 117.14197768777598, 114.9881910917989, 1188.460574182981, 597.8431410107753, 589.6923300125292, 544.3099595397244, 391.63755339611475, 341.2264304017254, 307.23860583116175, 297.7716692541568, 271.60050525856906, 264.5185968341207, 263.6570903994908, 257.639116483569, 239.68030162069203, 228.36516241916723, 192.05926878571086, 175.15803424843068, 169.164255633816, 166.14159963439062, 137.37641937036162, 134.1423461181648, 128.89038748174252, 128.29939357352467, 127.47269104366781, 125.88636858905285, 123.77231957677353, 118.5597486401535, 115.02843549382169, 114.20620010552776, 93.54964345675113, 82.019491330905, 82.47270377146957, 377.0858762713099, 299.42847040383595, 294.89011395877725, 288.59958743039175, 277.44974308471797, 267.034274782881, 164.89209176072012, 165.4861555347698, 149.2837905450595, 135.31784798114785, 127.85362395639511, 128.8248295431499, 123.15495510570828, 105.86985663670131, 91.80949189171797, 87.29304556602396, 83.26456216753294, 83.31285025318348, 77.6093281324318, 76.10458926268328, 75.06408577151694, 73.82642486216564, 72.50528000337633, 73.5470960823387, 67.81640928402597, 64.72892512493208, 64.06618187725935, 57.03235202521906, 54.47087480435252, 54.53026098809909], \"Total\": [3567.0, 1926.0, 1189.0, 1371.0, 1324.0, 1116.0, 939.0, 891.0, 815.0, 910.0, 598.0, 590.0, 638.0, 545.0, 562.0, 553.0, 541.0, 539.0, 377.0, 533.0, 560.0, 649.0, 641.0, 464.0, 392.0, 300.0, 479.0, 295.0, 464.0, 539.0, 3567.3097316915137, 1926.0910610182607, 1371.8067026194724, 1324.977246832339, 910.6815632119922, 649.1894811485705, 641.3068671960793, 539.1330099304283, 512.5786938091916, 536.0194997509918, 500.4009200501544, 330.38034539539507, 319.7774532998054, 259.3493639225427, 250.6365857666145, 248.92517896881836, 250.50623210511324, 245.47548318337914, 237.74439067955237, 224.1436849731615, 219.47744564002886, 217.06324458689025, 200.54996588126022, 196.4386282857606, 188.54305888377394, 179.48070408224118, 163.69780840004583, 158.73220590888926, 148.03863762180225, 146.65207033005584, 498.00738836292004, 1116.5860501361067, 939.042246891929, 891.1203247845476, 815.601565352436, 560.6138045226646, 479.808666304947, 464.9182456088613, 418.5776304867719, 355.8583944898802, 356.19277370576674, 312.934031636964, 280.5666953774621, 266.33157899386663, 251.64876903197126, 234.21089052023555, 224.7722230853074, 212.17238628692377, 196.69418468704194, 165.73307940928055, 159.96407861917143, 157.8599963566332, 136.08419648406712, 134.27319993939284, 130.85086227536146, 127.73867242205178, 127.78532502012814, 125.29841564276344, 124.40493190571883, 110.96608669578701, 112.2321121355423, 638.5552638829195, 562.1090895267139, 553.2720441198747, 539.7584781337197, 541.7127472236006, 533.3912624280689, 464.8913080290734, 372.2583865658271, 338.1516253696352, 330.77742830906107, 296.258993242988, 273.81595617671877, 263.7790349425111, 262.19074988707837, 258.7432908673236, 249.44080149564695, 244.07112986124557, 270.27590653735086, 243.619222552302, 238.85085905756483, 236.7493316722254, 215.47317152909602, 214.65669818988002, 201.78195138012543, 190.30745081111905, 138.84781723948356, 139.66664617282183, 137.78437617586178, 117.88363205887029, 115.73412663286578, 1189.2055015729889, 598.5840929468179, 590.4343482358772, 545.0537234305475, 392.38095602164805, 341.9715747315314, 307.9812838769266, 298.51293203095884, 272.3467333788901, 265.2697937105827, 264.4087605106148, 258.3840390068737, 240.42754939823982, 229.1099862213684, 192.80792262653878, 175.90098260798797, 169.91192579185503, 166.88294287457333, 138.12590851719514, 134.88886989373822, 129.63395282489714, 129.04428765147105, 128.22363695123278, 126.63467382678029, 124.52418219267004, 119.30547688989037, 115.77284795347079, 114.95724666147349, 94.29229224794959, 82.7640305956999, 83.22334494973124, 377.84471165928636, 300.18356462618755, 295.6479053572451, 289.35114658194044, 278.206213267641, 267.7940225808282, 165.64227608505433, 166.24721819127123, 150.0324009852338, 136.06927869922916, 128.60016989081046, 129.58542825817483, 123.90838526165918, 106.62337392333873, 92.57436904141758, 88.0438739986446, 84.02064274858985, 84.07009896883686, 78.36040085520868, 76.85370448758003, 75.81502926041574, 74.58155654030712, 73.25160460000356, 74.30440051982774, 68.57246616495726, 65.47902981263614, 64.82266147975582, 57.79661832645464, 55.21274165966516, 55.282020581547], \"Category\": [\"Default\", \"Default\", \"Default\", \"Default\", \"Default\", \"Default\", \"Default\", \"Default\", \"Default\", \"Default\", \"Default\", \"Default\", \"Default\", \"Default\", \"Default\", \"Default\", \"Default\", \"Default\", \"Default\", \"Default\", \"Default\", \"Default\", \"Default\", \"Default\", \"Default\", \"Default\", \"Default\", \"Default\", \"Default\", \"Default\", \"Topic1\", \"Topic1\", \"Topic1\", \"Topic1\", \"Topic1\", \"Topic1\", \"Topic1\", \"Topic1\", \"Topic1\", \"Topic1\", \"Topic1\", \"Topic1\", \"Topic1\", \"Topic1\", \"Topic1\", \"Topic1\", \"Topic1\", \"Topic1\", \"Topic1\", \"Topic1\", \"Topic1\", \"Topic1\", \"Topic1\", \"Topic1\", \"Topic1\", \"Topic1\", \"Topic1\", \"Topic1\", \"Topic1\", \"Topic1\", \"Topic1\", \"Topic2\", \"Topic2\", \"Topic2\", \"Topic2\", \"Topic2\", \"Topic2\", \"Topic2\", \"Topic2\", \"Topic2\", \"Topic2\", \"Topic2\", \"Topic2\", \"Topic2\", \"Topic2\", \"Topic2\", \"Topic2\", \"Topic2\", \"Topic2\", \"Topic2\", \"Topic2\", \"Topic2\", \"Topic2\", \"Topic2\", \"Topic2\", \"Topic2\", \"Topic2\", \"Topic2\", \"Topic2\", \"Topic2\", \"Topic2\", \"Topic3\", \"Topic3\", \"Topic3\", \"Topic3\", \"Topic3\", \"Topic3\", \"Topic3\", \"Topic3\", \"Topic3\", \"Topic3\", \"Topic3\", \"Topic3\", \"Topic3\", \"Topic3\", \"Topic3\", \"Topic3\", \"Topic3\", \"Topic3\", \"Topic3\", \"Topic3\", \"Topic3\", \"Topic3\", \"Topic3\", \"Topic3\", \"Topic3\", \"Topic3\", \"Topic3\", \"Topic3\", \"Topic3\", \"Topic3\", \"Topic4\", \"Topic4\", \"Topic4\", \"Topic4\", \"Topic4\", \"Topic4\", \"Topic4\", \"Topic4\", \"Topic4\", \"Topic4\", \"Topic4\", \"Topic4\", \"Topic4\", \"Topic4\", \"Topic4\", \"Topic4\", \"Topic4\", \"Topic4\", \"Topic4\", \"Topic4\", \"Topic4\", \"Topic4\", \"Topic4\", \"Topic4\", \"Topic4\", \"Topic4\", \"Topic4\", \"Topic4\", \"Topic4\", \"Topic4\", \"Topic4\", \"Topic5\", \"Topic5\", \"Topic5\", \"Topic5\", \"Topic5\", \"Topic5\", \"Topic5\", \"Topic5\", \"Topic5\", \"Topic5\", \"Topic5\", \"Topic5\", \"Topic5\", \"Topic5\", \"Topic5\", \"Topic5\", \"Topic5\", \"Topic5\", \"Topic5\", \"Topic5\", \"Topic5\", \"Topic5\", \"Topic5\", \"Topic5\", \"Topic5\", \"Topic5\", \"Topic5\", \"Topic5\", \"Topic5\", \"Topic5\"], \"logprob\": [30.0, 29.0, 28.0, 27.0, 26.0, 25.0, 24.0, 23.0, 22.0, 21.0, 20.0, 19.0, 18.0, 17.0, 16.0, 15.0, 14.0, 13.0, 12.0, 11.0, 10.0, 9.0, 8.0, 7.0, 6.0, 5.0, 4.0, 3.0, 2.0, 1.0, -1.9656, -2.5821, -2.9216, -2.9563, -3.3316, -3.6704, -3.6826, -3.8564, -3.907, -3.8623, -3.931, -4.347, -4.3797, -4.5897, -4.624, -4.6308, -4.6245, -4.6448, -4.677, -4.736, -4.7572, -4.7682, -4.8477, -4.8685, -4.9096, -4.9591, -5.0516, -5.0825, -5.1526, -5.1621, -3.9742, -2.9337, -3.107, -3.1594, -3.2481, -3.6234, -3.7792, -3.8108, -3.916, -4.0786, -4.0777, -4.2074, -4.3169, -4.3691, -4.426, -4.498, -4.5393, -4.5971, -4.6732, -4.8452, -4.8808, -4.8941, -5.0432, -5.0568, -5.0827, -5.1069, -5.1066, -5.1263, -5.1334, -5.2485, -5.2372, -3.3092, -3.4369, -3.4527, -3.4775, -3.4739, -3.4894, -3.627, -3.8497, -3.9459, -3.9682, -4.0785, -4.1575, -4.195, -4.201, -4.2143, -4.251, -4.2728, -4.1709, -4.2747, -4.2945, -4.3034, -4.3979, -4.4017, -4.4638, -4.5225, -4.8392, -4.8334, -4.847, -5.0038, -5.0224, -2.5176, -3.2047, -3.2184, -3.2985, -3.6277, -3.7655, -3.8704, -3.9017, -3.9937, -4.0201, -4.0234, -4.0465, -4.1187, -4.1671, -4.3402, -4.4324, -4.4672, -4.4852, -4.6753, -4.6991, -4.7391, -4.7437, -4.7501, -4.7627, -4.7796, -4.8226, -4.8529, -4.86, -5.0596, -5.1911, -5.1856, -3.1763, -3.4069, -3.4222, -3.4438, -3.4832, -3.5214, -4.0035, -3.9999, -4.103, -4.2012, -4.2579, -4.2504, -4.2954, -4.4466, -4.5891, -4.6395, -4.6868, -4.6862, -4.7571, -4.7767, -4.7905, -4.8071, -4.8251, -4.8109, -4.892, -4.9386, -4.9489, -5.0652, -5.1111, -5.11], \"loglift\": [30.0, 29.0, 28.0, 27.0, 26.0, 25.0, 24.0, 23.0, 22.0, 21.0, 20.0, 19.0, 18.0, 17.0, 16.0, 15.0, 14.0, 13.0, 12.0, 11.0, 10.0, 9.0, 8.0, 7.0, 6.0, 5.0, 4.0, 3.0, 2.0, 1.0, 1.2361, 1.2359, 1.2357, 1.2357, 1.2355, 1.2351, 1.2351, 1.2349, 1.2348, 1.2348, 1.2348, 1.234, 1.2339, 1.2333, 1.2332, 1.2332, 1.2332, 1.2332, 1.233, 1.2329, 1.2328, 1.2328, 1.2324, 1.2324, 1.2322, 1.232, 1.2316, 1.2315, 1.2311, 1.2311, 1.1964, 1.4295, 1.4293, 1.4293, 1.4292, 1.4288, 1.4286, 1.4285, 1.4284, 1.4281, 1.4281, 1.4278, 1.4275, 1.4274, 1.4272, 1.427, 1.4269, 1.4267, 1.4264, 1.4257, 1.4255, 1.4254, 1.4247, 1.4245, 1.4245, 1.4243, 1.4243, 1.4243, 1.4242, 1.4235, 1.4235, 1.6128, 1.6127, 1.6126, 1.6126, 1.6126, 1.6126, 1.6124, 1.612, 1.6118, 1.6116, 1.6115, 1.6112, 1.6111, 1.6111, 1.6111, 1.611, 1.6109, 1.6109, 1.6109, 1.6108, 1.6108, 1.6105, 1.6105, 1.6102, 1.6101, 1.6086, 1.6086, 1.6085, 1.6077, 1.6075, 1.7825, 1.7819, 1.7819, 1.7818, 1.7813, 1.781, 1.7807, 1.7807, 1.7804, 1.7803, 1.7803, 1.7803, 1.7801, 1.7799, 1.7793, 1.7789, 1.7788, 1.7787, 1.7777, 1.7776, 1.7774, 1.7774, 1.7773, 1.7772, 1.7771, 1.7769, 1.7767, 1.7766, 1.7753, 1.7741, 1.7741, 2.2704, 2.2699, 2.2698, 2.2698, 2.2697, 2.2696, 2.2679, 2.2678, 2.2674, 2.2669, 2.2666, 2.2665, 2.2663, 2.2653, 2.2641, 2.2638, 2.2634, 2.2634, 2.2628, 2.2626, 2.2625, 2.2622, 2.2622, 2.2622, 2.2613, 2.2609, 2.2607, 2.2591, 2.2589, 2.2587]}, \"token.table\": {\"Topic\": [3, 1, 5, 2, 3, 2, 1, 3, 5, 1, 2, 3, 5, 5, 3, 5, 2, 1, 1, 4, 1, 3, 4, 4, 2, 2, 4, 3, 5, 4, 3, 4, 3, 3, 5, 5, 5, 5, 4, 4, 1, 1, 2, 4, 1, 1, 3, 2, 3, 5, 4, 4, 1, 2, 5, 1, 2, 2, 4, 4, 3, 3, 3, 1, 4, 4, 5, 3, 3, 1, 4, 1, 4, 5, 3, 4, 5, 5, 1, 2, 5, 5, 3, 1, 1, 4, 2, 4, 2, 5, 1, 2, 1, 2, 1, 1, 5, 4, 4, 5, 3, 2, 4, 1, 1, 2, 5, 5, 3, 5, 4, 2, 2, 3, 2, 1, 2, 2, 4, 2, 2, 4, 4, 3, 2, 3, 4, 1, 5, 3, 2, 5, 5, 3, 1, 1, 3, 2, 4, 2, 1, 5, 5, 3, 4, 1, 1, 4, 5, 3, 2, 3, 3], \"Freq\": [0.9976496935929537, 0.9991988023321096, 0.9888918238454205, 0.9966513253669991, 0.9971273038043535, 0.9945521577569892, 0.997824625493355, 0.9938939102080283, 0.9937955932363891, 0.9975687676170324, 0.9980249310119916, 0.9992664626220388, 0.992202408111544, 0.9954007272643409, 0.9982328412472863, 0.9948985116936709, 0.997965342752566, 0.9994119414798514, 0.9992624425553908, 0.9919075251568553, 0.998848765065186, 0.9956114028649988, 0.9933244455230004, 0.9989829459780971, 0.998890095844592, 0.998905120570145, 0.9990242090397985, 0.9952792442593305, 0.9965652001566728, 0.9951552254894036, 0.996834915364142, 0.9969001469687365, 0.9991257877435112, 0.9954584595848969, 0.9961225111110853, 0.994153496551451, 0.9881437066403885, 0.9931188131466655, 0.9949881512890503, 0.9934103540608025, 0.9999131749932555, 0.9995214970994759, 0.9975878200341158, 0.9982817091793342, 0.9994335361186486, 0.9948975364918337, 0.9980269140859336, 0.9970152442926132, 0.9983844520547742, 0.995903331193063, 0.9971589020745536, 0.9907685670912747, 0.9979791636285487, 0.9976183606054984, 0.9873090450009872, 0.9992515899744492, 0.9992624274180053, 0.9987550143504602, 0.998986296673372, 0.9984540583684692, 0.9952268763438558, 0.9969407048770539, 0.9964376973106898, 0.9986529216140779, 0.9904570094849348, 0.9982217121153132, 0.9862168696106911, 0.9970200561424106, 0.9970466381352829, 0.9980630115186536, 0.9948778989484334, 0.9971197089567285, 0.9951096698736522, 0.9978085237693052, 0.9995082995376939, 0.9980667530827688, 0.9926842255603534, 0.9780351124901462, 0.9929840098606171, 0.9979801758840275, 0.9987864344548536, 0.9924978101598291, 0.9925042005964916, 0.998871014702365, 0.9977670975938474, 0.9958097021349911, 0.9939731555515872, 0.9974395400961156, 0.9938543410989921, 0.9970349503204892, 0.9973216949159007, 0.9934974652779061, 0.9972577114194782, 0.9944743691323793, 0.9951016829730257, 0.9978984593605675, 0.9892497665915789, 0.9992643581167406, 0.9916730202812495, 0.9953330552259764, 0.9961247704525745, 0.9948299136835785, 0.9985136891258849, 0.9955536234259204, 0.9968689453516667, 0.991293856307328, 0.9872713487677287, 0.995664319450405, 0.9974582360709691, 0.9926688959771292, 0.9946329500557121, 0.9983146067135998, 0.9986200158711296, 0.9965943521094232, 0.9965644194166541, 0.9957372159904516, 0.9890217504411368, 0.9987427906721592, 0.9968138197731562, 0.9955767465861767, 0.9964707411754625, 0.985300459258515, 0.9918486797351637, 0.9985947823620257, 0.9920328993955293, 0.9978040350650701, 0.9990291169441285, 0.9953871622668085, 0.9954822986963591, 0.9980827603922041, 0.9994751410909752, 0.9921416596791645, 0.9960571971098371, 0.9991304372317863, 0.9974601243283482, 0.9618331197346243, 0.03815204441536088, 0.9942173156488492, 0.9947092083866418, 0.9967450494163229, 0.9980980174201397, 0.9878524763058066, 0.9916516614178621, 0.9986842709032535, 0.9957905188900659, 0.9981677442671036, 0.9962833049969033, 0.9987268678621978, 0.9977643946488576, 0.9936567834032688, 0.9974219264633525, 0.9993058945744359, 0.9943072197470296], \"Term\": [\"aa\", \"agent\", \"air\", \"airline\", \"airport\", \"also\", \"answer\", \"appreciate\", \"automate\", \"back\", \"bad\", \"bag\", \"big\", \"board\", \"book\", \"booking_problem\", \"busy\", \"call\", \"cancel\", \"care\", \"change\", \"check\", \"connection\", \"crew\", \"customer\", \"day\", \"delay\", \"dfw\", \"do\", \"due\", \"email\", \"employee\", \"even\", \"ever\", \"experience\", \"extra\", \"finally\", \"find\", \"first\", \"fix\", \"flight\", \"flightle\", \"fly\", \"gate\", \"get\", \"give\", \"go\", \"good\", \"great\", \"ground\", \"guy\", \"handle\", \"hang\", \"happen\", \"hard\", \"help\", \"hold\", \"home\", \"hour\", \"hrs\", \"info\", \"issue\", \"keep\", \"know\", \"land\", \"late\", \"lax\", \"leave\", \"let\", \"line\", \"long\", \"lose\", \"love\", \"luggage\", \"m\", \"make\", \"mean\", \"mile\", \"min\", \"minute\", \"miss\", \"morning\", \"much\", \"need\", \"never\", \"new\", \"next\", \"nice\", \"night\", \"number\", \"online\", \"option\", \"passenger\", \"pay\", \"people\", \"phone\", \"pick\", \"plane\", \"poor\", \"problem\", \"put\", \"re\", \"really\", \"rebook\", \"rebooke\", \"refund\", \"rep\", \"reservation\", \"response\", \"right\", \"rude\", \"s\", \"say\", \"seat\", \"see\", \"send\", \"seriously\", \"service\", \"sit\", \"speak\", \"staff\", \"stay\", \"stick\", \"still\", \"sure\", \"system\", \"take\", \"talk\", \"team\", \"tell\", \"thank\", \"think\", \"ticket\", \"time\", \"today\", \"tomorrow\", \"tomorrow\", \"tonight\", \"travel\", \"trip\", \"try\", \"tweet\", \"use\", \"ve\", \"voucher\", \"wait\", \"want\", \"way\", \"weather\", \"website\", \"well\", \"work\", \"yet\"]}, \"R\": 30, \"lambda.step\": 0.01, \"plot.opts\": {\"xlab\": \"PC1\", \"ylab\": \"PC2\"}, \"topic.order\": [1, 4, 3, 2, 5]};\n",
       "\n",
       "function LDAvis_load_lib(url, callback){\n",
       "  var s = document.createElement('script');\n",
       "  s.src = url;\n",
       "  s.async = true;\n",
       "  s.onreadystatechange = s.onload = callback;\n",
       "  s.onerror = function(){console.warn(\"failed to load library \" + url);};\n",
       "  document.getElementsByTagName(\"head\")[0].appendChild(s);\n",
       "}\n",
       "\n",
       "if(typeof(LDAvis) !== \"undefined\"){\n",
       "   // already loaded: just create the visualization\n",
       "   !function(LDAvis){\n",
       "       new LDAvis(\"#\" + \"ldavis_el1516822473798340642407165427\", ldavis_el1516822473798340642407165427_data);\n",
       "   }(LDAvis);\n",
       "}else if(typeof define === \"function\" && define.amd){\n",
       "   // require.js is available: use it to load d3/LDAvis\n",
       "   require.config({paths: {d3: \"https://d3js.org/d3.v5\"}});\n",
       "   require([\"d3\"], function(d3){\n",
       "      window.d3 = d3;\n",
       "      LDAvis_load_lib(\"https://cdn.jsdelivr.net/gh/bmabey/pyLDAvis@3.4.0/pyLDAvis/js/ldavis.v3.0.0.js\", function(){\n",
       "        new LDAvis(\"#\" + \"ldavis_el1516822473798340642407165427\", ldavis_el1516822473798340642407165427_data);\n",
       "      });\n",
       "    });\n",
       "}else{\n",
       "    // require.js not available: dynamically load d3 & LDAvis\n",
       "    LDAvis_load_lib(\"https://d3js.org/d3.v5.js\", function(){\n",
       "         LDAvis_load_lib(\"https://cdn.jsdelivr.net/gh/bmabey/pyLDAvis@3.4.0/pyLDAvis/js/ldavis.v3.0.0.js\", function(){\n",
       "                 new LDAvis(\"#\" + \"ldavis_el1516822473798340642407165427\", ldavis_el1516822473798340642407165427_data);\n",
       "            })\n",
       "         });\n",
       "}\n",
       "</script>"
      ],
      "text/plain": [
       "PreparedData(topic_coordinates=              x         y  topics  cluster       Freq\n",
       "topic                                                \n",
       "0      0.389790 -0.022214       1        1  29.045827\n",
       "3     -0.126375 -0.307394       2        1  23.928001\n",
       "2     -0.092023  0.268082       3        1  19.909213\n",
       "1     -0.095583  0.043187       4        1  16.810556\n",
       "4     -0.075809  0.018339       5        1  10.306403, topic_info=                 Term         Freq        Total Category  logprob  loglift\n",
       "18             flight  3567.000000  3567.000000  Default  30.0000  30.0000\n",
       "117               get  1926.000000  1926.000000  Default  29.0000  29.0000\n",
       "36               hour  1189.000000  1189.000000  Default  28.0000  28.0000\n",
       "99               call  1371.000000  1371.000000  Default  27.0000  27.0000\n",
       "228            cancel  1324.000000  1324.000000  Default  26.0000  26.0000\n",
       "...               ...          ...          ...      ...      ...      ...\n",
       "407              mean    64.728925    65.479030   Topic5  -4.9386   2.2609\n",
       "165              hard    64.066182    64.822661   Topic5  -4.9489   2.2607\n",
       "65                lax    57.032352    57.796618   Topic5  -5.0652   2.2591\n",
       "1045             mile    54.470875    55.212742   Topic5  -5.1111   2.2589\n",
       "124   booking_problem    54.530261    55.282021   Topic5  -5.1100   2.2587\n",
       "\n",
       "[182 rows x 6 columns], token_table=      Topic      Freq     Term\n",
       "term                          \n",
       "3047      3  0.997650       aa\n",
       "432       1  0.999199    agent\n",
       "115       5  0.988892      air\n",
       "153       2  0.996651  airline\n",
       "446       3  0.997127  airport\n",
       "...     ...       ...      ...\n",
       "379       5  0.997764  weather\n",
       "251       3  0.993657  website\n",
       "43        2  0.997422     well\n",
       "157       3  0.999306     work\n",
       "50        3  0.994307      yet\n",
       "\n",
       "[153 rows x 3 columns], R=30, lambda_step=0.01, plot_opts={'xlab': 'PC1', 'ylab': 'PC2'}, topic_order=[1, 4, 3, 2, 5])"
      ]
     },
     "execution_count": 65,
     "metadata": {},
     "output_type": "execute_result"
    }
   ],
   "source": [
    "# Visualize the topics\n",
    "pyLDAvis.enable_notebook()\n",
    "vis = pyLDAvis.gensim.prepare(lda_model, corpus, id2word)\n",
    "vis"
   ]
  },
  {
   "cell_type": "code",
   "execution_count": 66,
   "id": "4bbfa535",
   "metadata": {
    "executionInfo": {
     "elapsed": 6,
     "status": "ok",
     "timestamp": 1746709853102,
     "user": {
      "displayName": "Dwi Hosanna",
      "userId": "10125860838889849300"
     },
     "user_tz": -420
    },
    "id": "4bbfa535"
   },
   "outputs": [],
   "source": [
    "def compute_coherence_values(dictionary, corpus, texts, num_topics, start=1, step=3):\n",
    "    coherence_values = []\n",
    "    model_list = []\n",
    "    for num_topics in range(start, num_topics, step):\n",
    "        model = gensim.models.ldamodel.LdaModel(corpus=corpus, num_topics=num_topics, id2word=dictionary)\n",
    "        model_list.append(model)\n",
    "        coherencemodel = CoherenceModel(model=model, texts=texts, dictionary=dictionary, coherence='c_v')\n",
    "        coherence_values.append(coherencemodel.get_coherence())\n",
    "\n",
    "    return model_list, coherence_values"
   ]
  },
  {
   "cell_type": "code",
   "execution_count": 67,
   "id": "457ff849",
   "metadata": {
    "colab": {
     "base_uri": "https://localhost:8080/"
    },
    "executionInfo": {
     "elapsed": 67984,
     "status": "ok",
     "timestamp": 1746709922533,
     "user": {
      "displayName": "Dwi Hosanna",
      "userId": "10125860838889849300"
     },
     "user_tz": -420
    },
    "id": "457ff849",
    "outputId": "458490be-953c-477f-a0a0-b4b2b0540d43"
   },
   "outputs": [],
   "source": [
    "model_list, coherence_values = compute_coherence_values(dictionary=id2word, corpus=corpus, texts=data_lemmatized, start=1, num_topics=5, step=1)"
   ]
  },
  {
   "cell_type": "code",
   "execution_count": 68,
   "id": "b5ca960b",
   "metadata": {
    "colab": {
     "base_uri": "https://localhost:8080/",
     "height": 449
    },
    "executionInfo": {
     "elapsed": 622,
     "status": "ok",
     "timestamp": 1746709763509,
     "user": {
      "displayName": "Dwi Hosanna",
      "userId": "10125860838889849300"
     },
     "user_tz": -420
    },
    "id": "b5ca960b",
    "outputId": "36bfe15a-4fef-4512-b5b6-50e4acf5cd9f"
   },
   "outputs": [
    {
     "data": {
      "image/png": "[encoded data removed]",
      "text/plain": [
       "<Figure size 640x480 with 1 Axes>"
      ]
     },
     "metadata": {},
     "output_type": "display_data"
    }
   ],
   "source": [
    "# Show graph\n",
    "num_topics=5; start=1; step=1;\n",
    "x = range(start, num_topics, step)\n",
    "plt.plot(x, coherence_values)\n",
    "plt.xlabel(\"Num Topics\")\n",
    "plt.ylabel(\"Coherence score\")\n",
    "plt.legend((\"coherence_values\"), loc='best')\n",
    "plt.show()# Print the coherence scores"
   ]
  },
  {
   "cell_type": "code",
   "execution_count": 69,
   "id": "0f945fe7",
   "metadata": {
    "colab": {
     "base_uri": "https://localhost:8080/"
    },
    "executionInfo": {
     "elapsed": 7,
     "status": "ok",
     "timestamp": 1746710058298,
     "user": {
      "displayName": "Dwi Hosanna",
      "userId": "10125860838889849300"
     },
     "user_tz": -420
    },
    "id": "0f945fe7",
    "outputId": "d691502a-e533-4344-db31-7f9334896c2b"
   },
   "outputs": [
    {
     "name": "stdout",
     "output_type": "stream",
     "text": [
      "Num Topics = 1  has Coherence Value of 0.28068619\n",
      "Num Topics = 2  has Coherence Value of 0.29888517\n",
      "Num Topics = 3  has Coherence Value of 0.27911351\n",
      "Num Topics = 4  has Coherence Value of 0.27943722\n"
     ]
    }
   ],
   "source": [
    "# Print the coherence scores\n",
    "for m, cv in zip(x, coherence_values):\n",
    "    print(\"Num Topics =\", m, \" has Coherence Value of\", round(cv, 5))"
   ]
  },
  {
   "cell_type": "code",
   "execution_count": 77,
   "id": "d826dc3a-1039-4dd7-b1ed-192b8aceaee8",
   "metadata": {},
   "outputs": [
    {
     "name": "stdout",
     "output_type": "stream",
     "text": [
      "\n",
      "=== Processing: Virgin America ===\n",
      "\n",
      "=== Processing: United ===\n",
      "\n",
      "=== Processing: Southwest ===\n",
      "\n",
      "=== Processing: Delta ===\n",
      "\n",
      "=== Processing: US Airways ===\n",
      "\n",
      "=== Processing: American ===\n"
     ]
    }
   ],
   "source": [
    "results = {}\n",
    "for airline in df['airline'].unique():\n",
    "    print(f\"\\n=== Processing: {airline} ===\")\n",
    "    airline_df = df[df['airline'] == airline]\n",
    "    data = airline_df['clean_text'].dropna().tolist()\n",
    "    data_words = list(sent_to_words(data))\n",
    "\n",
    "    # Create bigrams\n",
    "    bigram = Phrases(data_words, min_count=5, threshold=100)\n",
    "    bigram_mod = Phraser(bigram)"
   ]
  },
  {
   "cell_type": "code",
   "execution_count": 78,
   "id": "83efb846-a279-4736-9d55-8185db60db11",
   "metadata": {},
   "outputs": [
    {
     "ename": "IndentationError",
     "evalue": "unexpected indent (3187771929.py, line 2)",
     "output_type": "error",
     "traceback": [
      "\u001b[1;36m  Cell \u001b[1;32mIn[78], line 2\u001b[1;36m\u001b[0m\n\u001b[1;33m    data_nostop = remove_stopwords(data_words)\u001b[0m\n\u001b[1;37m    ^\u001b[0m\n\u001b[1;31mIndentationError\u001b[0m\u001b[1;31m:\u001b[0m unexpected indent\n"
     ]
    }
   ],
   "source": [
    "# Preprocess\n",
    "    data_nostop = remove_stopwords(data_words)\n",
    "    data_bigrams = make_bigrams(data_nostop, bigram_mod)\n",
    "    data_lemmatized = lemmatization(data_bigrams)"
   ]
  },
  {
   "cell_type": "code",
   "execution_count": 79,
   "id": "26cfb661-2830-4de0-adda-6bd40c395563",
   "metadata": {},
   "outputs": [
    {
     "ename": "IndentationError",
     "evalue": "unexpected indent (3768958625.py, line 2)",
     "output_type": "error",
     "traceback": [
      "\u001b[1;36m  Cell \u001b[1;32mIn[79], line 2\u001b[1;36m\u001b[0m\n\u001b[1;33m    id2word = corpora.Dictionary(data_lemmatized)\u001b[0m\n\u001b[1;37m    ^\u001b[0m\n\u001b[1;31mIndentationError\u001b[0m\u001b[1;31m:\u001b[0m unexpected indent\n"
     ]
    }
   ],
   "source": [
    "# Dictionary and Corpus\n",
    "    id2word = corpora.Dictionary(data_lemmatized)\n",
    "    corpus = [id2word.doc2bow(text) for text in data_lemmatized]"
   ]
  },
  {
   "cell_type": "code",
   "execution_count": 80,
   "id": "42e0729f-3580-4eeb-80c0-a3826488ee21",
   "metadata": {},
   "outputs": [
    {
     "ename": "IndentationError",
     "evalue": "unexpected indent (3804308481.py, line 2)",
     "output_type": "error",
     "traceback": [
      "\u001b[1;36m  Cell \u001b[1;32mIn[80], line 2\u001b[1;36m\u001b[0m\n\u001b[1;33m    lda_model = LdaModel(corpus=corpus,\u001b[0m\n\u001b[1;37m    ^\u001b[0m\n\u001b[1;31mIndentationError\u001b[0m\u001b[1;31m:\u001b[0m unexpected indent\n"
     ]
    }
   ],
   "source": [
    "# LDA Model\n",
    "    lda_model = LdaModel(corpus=corpus,\n",
    "                         id2word=id2word,\n",
    "                         num_topics=4,\n",
    "                         random_state=100,\n",
    "                         update_every=1,\n",
    "                         chunksize=100,\n",
    "                         passes=10,\n",
    "                         alpha='auto',\n",
    "                         per_word_topics=True)"
   ]
  },
  {
   "cell_type": "code",
   "execution_count": 81,
   "id": "bb98dda1-3146-4337-b3e2-0a5b81ce213c",
   "metadata": {},
   "outputs": [],
   "source": [
    "# Coherence\n",
    "coherence_model_lda = CoherenceModel(model=lda_model, texts=texts, dictionary=id2word, coherence='c_v')\n",
    "coherence_lda = coherence_model_lda.get_coherence()"
   ]
  },
  {
   "cell_type": "code",
   "execution_count": 82,
   "id": "80cb76a5-428b-4bfe-8111-7bf4c2e04862",
   "metadata": {},
   "outputs": [
    {
     "ename": "IndentationError",
     "evalue": "unexpected indent (2402074204.py, line 2)",
     "output_type": "error",
     "traceback": [
      "\u001b[1;36m  Cell \u001b[1;32mIn[82], line 2\u001b[1;36m\u001b[0m\n\u001b[1;33m    coherence_model_lda = CoherenceModel(model=lda_model, texts=data_lemmatized, dictionary=id2word, coherence='c_v')\u001b[0m\n\u001b[1;37m    ^\u001b[0m\n\u001b[1;31mIndentationError\u001b[0m\u001b[1;31m:\u001b[0m unexpected indent\n"
     ]
    }
   ],
   "source": [
    "# Coherence score\n",
    "    coherence_model_lda = CoherenceModel(model=lda_model, texts=data_lemmatized, dictionary=id2word, coherence='c_v')\n",
    "    coherence_lda = coherence_model_lda.get_coherence()\n",
    "    print(f\"Coherence Score: {coherence_lda:.4f}\")\n",
    "    print(\"Topik-topik:\")\n",
    "    for idx, topic in lda_model.print_topics():\n",
    "        print(f\" - Topic {idx}: {topic}\")"
   ]
  },
  {
   "cell_type": "code",
   "execution_count": null,
   "id": "7f29f488-306c-4b9d-b8c5-f2b345277c22",
   "metadata": {},
   "outputs": [],
   "source": [
    "    # Simpan hasil\n",
    "    results[airline] = {\n",
    "        \"model\": lda_model,\n",
    "        \"corpus\": corpus,\n",
    "        \"dictionary\": id2word,\n",
    "        \"texts\": data_lemmatized,\n",
    "        \"coherence\": coherence_lda\n",
    "    }\n"
   ]
  },
  {
   "cell_type": "code",
   "execution_count": null,
   "id": "a8f0ca7f-bdfc-4c2f-b570-0ff3c223d083",
   "metadata": {},
   "outputs": [],
   "source": [
    " # Visualisasi (jika kamu mau tampilkan)\n",
    "    vis = gensimvis.prepare(lda_model, corpus, id2word)\n",
    "    pyLDAvis.display(vis)"
   ]
  },
  {
   "cell_type": "markdown",
   "id": "6vNRVbwx7Hex",
   "metadata": {
    "id": "6vNRVbwx7Hex"
   },
   "source": [
    "https://medium.com/@listari.tari/topic-modeling-menggunakan-latent-dirchlect-allocation-part-2-topic-modeling-with-gensim-c9ffd196cb87"
   ]
  }
 ],
 "metadata": {
  "colab": {
   "provenance": []
  },
  "kernelspec": {
   "display_name": "Python 3 (ipykernel)",
   "language": "python",
   "name": "python3"
  },
  "language_info": {
   "codemirror_mode": {
    "name": "ipython",
    "version": 3
   },
   "file_extension": ".py",
   "mimetype": "text/x-python",
   "name": "python",
   "nbconvert_exporter": "python",
   "pygments_lexer": "ipython3",
   "version": "3.12.4"
  }
 },
 "nbformat": 4,
 "nbformat_minor": 5
}
